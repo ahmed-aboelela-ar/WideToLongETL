{
 "nbformat": 4,
 "nbformat_minor": 0,
 "metadata": {
  "colab": {
   "provenance": []
  },
  "kernelspec": {
   "name": "python3",
   "display_name": "Python 3"
  },
  "language_info": {
   "name": "python"
  }
 },
 "cells": [
  {
   "cell_type": "code",
   "execution_count": 4,
   "metadata": {
    "id": "CNkfJ15_jfNO"
   },
   "outputs": [],
   "source": [
    "import pandas as pd\n",
    "import numpy as np\n",
    "from datetime import datetime\n",
    "import pytz\n",
    "\n",
    "tz = pytz.timezone('Europe/Berlin')\n",
    "\n",
    "dst_start= {\n",
    "    2019: datetime(2019, 3, 31, tzinfo=tz),\n",
    "    2020: datetime(2020, 3, 29, tzinfo=tz),\n",
    "    2021: datetime(2021, 3, 28, tzinfo=tz),\n",
    "    2022: datetime(2022, 3, 27, tzinfo=tz),\n",
    "    2023: datetime(2023, 3, 26, tzinfo=tz),\n",
    "    2024: datetime(2024, 3, 31, tzinfo=tz),\n",
    "    2025: datetime(2025, 3, 30, tzinfo=tz)\n",
    "}\n",
    "\n",
    "dst_end = {\n",
    "    2019: datetime(2019, 10, 27, tzinfo=tz),\n",
    "    2020: datetime(2020, 10, 25, tzinfo=tz),\n",
    "    2021: datetime(2021, 10, 31, tzinfo=tz),\n",
    "    2022: datetime(2022, 10, 30, tzinfo=tz),\n",
    "    2023: datetime(2023, 10, 29, tzinfo=tz),\n",
    "    2024: datetime(2024, 10, 27, tzinfo=tz),\n",
    "    2025: datetime(2025, 10, 26, tzinfo=tz)\n",
    "}\n"
   ]
  },
  {
   "cell_type": "code",
   "source": [
    "columns = ['Delivery day'] + \\\n",
    "              [f'Hour {i}' for i in range(1, 3)] + \\\n",
    "              ['Hour 3A', 'Hour 3B'] + \\\n",
    "              [f'Hour {i}' for i in range(4, 25)]\n"
   ],
   "metadata": {
    "id": "zeyJI9q4_Bnu"
   },
   "execution_count": 21,
   "outputs": []
  },
  {
   "cell_type": "code",
   "source": [
    "import os\n",
    "import shutil\n",
    "base_folder_name = 'daa_market'\n",
    "if os.path.exists(base_folder_name):\n",
    "    shutil.rmtree(base_folder_name)\n",
    "os.mkdir(base_folder_name)\n"
   ],
   "metadata": {
    "id": "aXtXKxpj69EL"
   },
   "execution_count": 43,
   "outputs": []
  },
  {
   "cell_type": "code",
   "source": [
    "for year in dst_start.keys():\n",
    "    os.mkdir(os.path.join(base_folder_name, str(year)))\n",
    "    dates = pd.date_range(start=f'{year}-01-01', end=f'{year}-12-31', freq='D', tz=tz)\n",
    "    for month in range(1, 13):\n",
    "        month_dates = dates[dates.month == month]\n",
    "        os.mkdir(os.path.join(base_folder_name, str(year), str(month)))\n",
    "        data = []\n",
    "        for date in month_dates:\n",
    "        # Generate random prices for all hours (0-100)\n",
    "            prices = np.round(np.random.uniform(0, 100, 25), 2)\n",
    "            prices_dict = {col: price for col, price in zip(columns[1:], prices)}\n",
    "\n",
    "            # Handle DST transitions\n",
    "            if date.date() == dst_start[year].date():\n",
    "                # Spring forward (23h day) - skip Hour3A and Hour3B\n",
    "                prices_dict['Hour 3A'] = np.nan\n",
    "                prices_dict['Hour 3B'] = np.nan\n",
    "            elif date.date() == dst_end[year].date():\n",
    "                # Fall back (25h day) - keep both Hour3A and Hour3B\n",
    "                pass\n",
    "            else:\n",
    "                # Normal day (24h) - keep Hour3A, skip Hour3B\n",
    "                prices_dict['Hour 3B'] = np.nan\n",
    "\n",
    "            # Create row\n",
    "            row = {'Delivery day': date.strftime('%d/%m/%Y')}\n",
    "            row.update(prices_dict)\n",
    "            data.append(row)\n",
    "\n",
    "        df = pd.DataFrame(data, columns=columns)\n",
    "        df.to_csv(os.path.join(base_folder_name, str(year), str(month),'daa_market.csv'), index=False)\n"
   ],
   "metadata": {
    "id": "vA_EwHEf6UFK"
   },
   "execution_count": 44,
   "outputs": []
  }
 ]
}
